{
 "cells": [
  {
   "cell_type": "code",
   "execution_count": 1,
   "metadata": {},
   "outputs": [],
   "source": [
    "import os\n",
    "import re\n",
    "import pandas as pd\n",
    "from visualization import *\n",
    "path = './tuning'\n",
    "img_path = './tuning_img'\n",
    "\n",
    "param_log = 'params_log.txt'\n",
    "measure_cols = ['PPL', 'topic_recon', 'tc_drug_drug', 'tc_disease_disease', 'tc_drug_disease']\n",
    "max_measures = [s+\"_max\" for s in measure_cols[1:]] \n",
    "max_epoches = [s+\"_max_epoch\" for s in measure_cols[1:]]\n",
    "files = [os.path.join(path,f) for f in sorted(os.listdir(path))][2:]\n",
    "file_names = [f for f in sorted(os.listdir(path))][2:]"
   ]
  },
  {
   "cell_type": "code",
   "execution_count": 2,
   "metadata": {},
   "outputs": [],
   "source": [
    "# file-to-param mapping\n",
    "f2param = get_f2p(param_log)\n",
    "rows = []\n",
    "for f,f_name in zip(files,file_names):\n",
    "    best_row = get_row(f,f_name,f2param,measure_cols[1:])\n",
    "    rows.append(best_row)\n",
    "    ## uncomment this line to generate the plts for csv files\n",
    "    # plt_csv(f,f_name,f2param,showfig=False)"
   ]
  },
  {
   "cell_type": "code",
   "execution_count": 3,
   "metadata": {},
   "outputs": [],
   "source": [
    "# raw data \n",
    "df = pd.concat(rows,axis=1).T\n",
    "df.sort_values(by=\"PPL\",inplace=True)\n",
    "df[measure_cols] = df[measure_cols].apply(pd.to_numeric).round(3)\n",
    "df[[\"Epoch\",\"best_epoch\"]] = df[[\"Epoch\",\"best_epoch\"]].astype(int)\n",
    "df[max_measures] = df[max_measures].round(3)\n",
    "df[max_epoches] = df[max_epoches].astype(int)\n",
    "df_measure = df[measure_cols]"
   ]
  },
  {
   "cell_type": "code",
   "execution_count": 4,
   "metadata": {},
   "outputs": [],
   "source": [
    "s2p_map = get_s2p(list(df.index))\n",
    "df_avg_baselines = pd.DataFrame()\n",
    "# calculate a avg baseline and add them to to s2p_map\n",
    "for seed, params in s2p_map.items():\n",
    "    baselines = []\n",
    "    for l in params:\n",
    "        if \"-baseline\" in l:\n",
    "            baselines.append(l)\n",
    "    index_name = f\"-avgbaseline {seed}\"\n",
    "    avg_baseline = df_measure.loc[baselines].mean(axis=0).rename(index_name)\n",
    "    # add a series to dataframe: needs to convert series to dataframe, and then Transpose it\n",
    "    df_avg_baselines = pd.concat([df_avg_baselines,avg_baseline.to_frame().T],axis=0)\n",
    "    s2p_map[seed].append(index_name)\n",
    "# merge avgbaselines with original raw data\n",
    "df_measure = pd.concat([df_measure,df_avg_baselines])"
   ]
  },
  {
   "cell_type": "code",
   "execution_count": 5,
   "metadata": {},
   "outputs": [],
   "source": [
    "# seeds = s2p_map.keys()\n",
    "compare_params,share_params = same_params(s2p_map)\n",
    "param_num = len(list(compare_params.values())[0]) # number of parameters\n",
    "stderr_list = []\n",
    "avg_measure_list = []\n",
    "for i in range(param_num):\n",
    "    display_list = [compare_params[seed][i] for seed in compare_params.keys()]\n",
    "    # compute the standard error based on some params tuned: std of avgbaselines, avg of -lr 0.05...\n",
    "    stderr_series = df_measure.loc[display_list].sem(axis=0) \n",
    "    stderr_series = stderr_series.rename(str(share_params[i])) # rename the series\n",
    "    stderr_list.append(stderr_series)\n",
    "    # compute the avg of all params: avg of avgbaselines, avg of -lr 0.05, ...\n",
    "    avg_series = df_measure.loc[display_list].mean(axis=0) \n",
    "    avg_series = avg_series.rename(str(share_params[i]))\n",
    "    avg_measure_list.append(avg_series)\n",
    "df_stderr = pd.concat(stderr_list,axis=1).T\n",
    "df_avg_measure = pd.concat(avg_measure_list,axis=1).T"
   ]
  },
  {
   "cell_type": "code",
   "execution_count": 6,
   "metadata": {},
   "outputs": [],
   "source": [
    "def highlight(s): # highlight best PPL and TCs in green\n",
    "    is_best = s == s.min() if 'PPL' in s.name else s == s.max()\n",
    "    return ['background: green' if cell else '' for cell in is_best]\n",
    "highlight_base = lambda x: ['background: darkblue' if x.name in ['-avgbaseline'] else '' for i in x] # high light the avgbaseline in blue"
   ]
  },
  {
   "cell_type": "code",
   "execution_count": 7,
   "metadata": {},
   "outputs": [],
   "source": [
    "df_stderr = df_stderr.sort_values(by=\"PPL\")\n",
    "\n",
    "# df_stderr.style.apply(highlight).apply(highlight_base,axis=1).format(precision=3)"
   ]
  },
  {
   "cell_type": "code",
   "execution_count": 8,
   "metadata": {},
   "outputs": [],
   "source": [
    "df_avg_measure = df_avg_measure.sort_values(by=\"PPL\")\n",
    "\n",
    "# df_avg_measure.style.apply(highlight).apply(highlight_base,axis=1).format(precision=3)"
   ]
  },
  {
   "cell_type": "code",
   "execution_count": 9,
   "metadata": {},
   "outputs": [],
   "source": [
    "pm_sign = \" \\u00B1 \"\n",
    "cols2pm_map = {}\n",
    "for col in measure_cols:\n",
    "    cols2pm_map[col] = f\"{col} {pm_sign} stderr\"\n",
    "stderr = pd.DataFrame()\n",
    "avg = pd.DataFrame()\n",
    "stderr[measure_cols] = df_stderr[measure_cols].round(3).astype(str)\n",
    "avg[measure_cols] = df_avg_measure[measure_cols].round(3).astype(str)\n",
    "\n",
    "df_result = pd.concat([avg.stack(),stderr.stack()],axis=1) \\\n",
    "    .apply(lambda x: pm_sign.join(x), axis=1) \\\n",
    "    .unstack()\n",
    "\n",
    "df_result.rename(columns=cols2pm_map, inplace=True)"
   ]
  },
  {
   "cell_type": "code",
   "execution_count": 10,
   "metadata": {},
   "outputs": [
    {
     "data": {
      "text/html": [
       "<style  type=\"text/css\" >\n",
       "#T_15ce7890_0574_11ed_890f_a904179e0037row0_col0,#T_15ce7890_0574_11ed_890f_a904179e0037row0_col1,#T_15ce7890_0574_11ed_890f_a904179e0037row0_col2,#T_15ce7890_0574_11ed_890f_a904179e0037row0_col3,#T_15ce7890_0574_11ed_890f_a904179e0037row0_col4{\n",
       "            background:  darkblue;\n",
       "        }#T_15ce7890_0574_11ed_890f_a904179e0037row4_col2,#T_15ce7890_0574_11ed_890f_a904179e0037row5_col3,#T_15ce7890_0574_11ed_890f_a904179e0037row6_col4,#T_15ce7890_0574_11ed_890f_a904179e0037row14_col0,#T_15ce7890_0574_11ed_890f_a904179e0037row19_col1{\n",
       "            background:  green;\n",
       "        }</style><table id=\"T_15ce7890_0574_11ed_890f_a904179e0037\" ><thead>    <tr>        <th class=\"blank level0\" ></th>        <th class=\"col_heading level0 col0\" >PPL  ±  stderr</th>        <th class=\"col_heading level0 col1\" >tc_disease_disease  ±  stderr</th>        <th class=\"col_heading level0 col2\" >tc_drug_disease  ±  stderr</th>        <th class=\"col_heading level0 col3\" >tc_drug_drug  ±  stderr</th>        <th class=\"col_heading level0 col4\" >topic_recon  ±  stderr</th>    </tr></thead><tbody>\n",
       "                <tr>\n",
       "                        <th id=\"T_15ce7890_0574_11ed_890f_a904179e0037level0_row0\" class=\"row_heading level0 row0\" >-avgbaseline</th>\n",
       "                        <td id=\"T_15ce7890_0574_11ed_890f_a904179e0037row0_col0\" class=\"data row0 col0\" >114.279 ± 0.229</td>\n",
       "                        <td id=\"T_15ce7890_0574_11ed_890f_a904179e0037row0_col1\" class=\"data row0 col1\" >0.022 ± 0.002</td>\n",
       "                        <td id=\"T_15ce7890_0574_11ed_890f_a904179e0037row0_col2\" class=\"data row0 col2\" >0.036 ± 0.011</td>\n",
       "                        <td id=\"T_15ce7890_0574_11ed_890f_a904179e0037row0_col3\" class=\"data row0 col3\" >0.128 ± 0.005</td>\n",
       "                        <td id=\"T_15ce7890_0574_11ed_890f_a904179e0037row0_col4\" class=\"data row0 col4\" >1.58 ± 0.12</td>\n",
       "            </tr>\n",
       "            <tr>\n",
       "                        <th id=\"T_15ce7890_0574_11ed_890f_a904179e0037level0_row1\" class=\"row_heading level0 row1\" >-batch 256</th>\n",
       "                        <td id=\"T_15ce7890_0574_11ed_890f_a904179e0037row1_col0\" class=\"data row1 col0\" >115.72 ± 0.263</td>\n",
       "                        <td id=\"T_15ce7890_0574_11ed_890f_a904179e0037row1_col1\" class=\"data row1 col1\" >0.024 ± 0.006</td>\n",
       "                        <td id=\"T_15ce7890_0574_11ed_890f_a904179e0037row1_col2\" class=\"data row1 col2\" >0.028 ± 0.012</td>\n",
       "                        <td id=\"T_15ce7890_0574_11ed_890f_a904179e0037row1_col3\" class=\"data row1 col3\" >0.122 ± 0.014</td>\n",
       "                        <td id=\"T_15ce7890_0574_11ed_890f_a904179e0037row1_col4\" class=\"data row1 col4\" >1.273 ± 0.181</td>\n",
       "            </tr>\n",
       "            <tr>\n",
       "                        <th id=\"T_15ce7890_0574_11ed_890f_a904179e0037level0_row2\" class=\"row_heading level0 row2\" >-batch 32</th>\n",
       "                        <td id=\"T_15ce7890_0574_11ed_890f_a904179e0037row2_col0\" class=\"data row2 col0\" >113.795 ± 0.357</td>\n",
       "                        <td id=\"T_15ce7890_0574_11ed_890f_a904179e0037row2_col1\" class=\"data row2 col1\" >0.018 ± 0.002</td>\n",
       "                        <td id=\"T_15ce7890_0574_11ed_890f_a904179e0037row2_col2\" class=\"data row2 col2\" >0.019 ± 0.005</td>\n",
       "                        <td id=\"T_15ce7890_0574_11ed_890f_a904179e0037row2_col3\" class=\"data row2 col3\" >0.124 ± 0.01</td>\n",
       "                        <td id=\"T_15ce7890_0574_11ed_890f_a904179e0037row2_col4\" class=\"data row2 col4\" >1.545 ± 0.174</td>\n",
       "            </tr>\n",
       "            <tr>\n",
       "                        <th id=\"T_15ce7890_0574_11ed_890f_a904179e0037level0_row3\" class=\"row_heading level0 row3\" >-batch 64</th>\n",
       "                        <td id=\"T_15ce7890_0574_11ed_890f_a904179e0037row3_col0\" class=\"data row3 col0\" >113.852 ± 0.193</td>\n",
       "                        <td id=\"T_15ce7890_0574_11ed_890f_a904179e0037row3_col1\" class=\"data row3 col1\" >0.021 ± 0.003</td>\n",
       "                        <td id=\"T_15ce7890_0574_11ed_890f_a904179e0037row3_col2\" class=\"data row3 col2\" >0.031 ± 0.011</td>\n",
       "                        <td id=\"T_15ce7890_0574_11ed_890f_a904179e0037row3_col3\" class=\"data row3 col3\" >0.133 ± 0.016</td>\n",
       "                        <td id=\"T_15ce7890_0574_11ed_890f_a904179e0037row3_col4\" class=\"data row3 col4\" >1.564 ± 0.181</td>\n",
       "            </tr>\n",
       "            <tr>\n",
       "                        <th id=\"T_15ce7890_0574_11ed_890f_a904179e0037level0_row4\" class=\"row_heading level0 row4\" >-embed_dim 128</th>\n",
       "                        <td id=\"T_15ce7890_0574_11ed_890f_a904179e0037row4_col0\" class=\"data row4 col0\" >119.017 ± 0.243</td>\n",
       "                        <td id=\"T_15ce7890_0574_11ed_890f_a904179e0037row4_col1\" class=\"data row4 col1\" >0.026 ± 0.003</td>\n",
       "                        <td id=\"T_15ce7890_0574_11ed_890f_a904179e0037row4_col2\" class=\"data row4 col2\" >0.057 ± 0.012</td>\n",
       "                        <td id=\"T_15ce7890_0574_11ed_890f_a904179e0037row4_col3\" class=\"data row4 col3\" >0.183 ± 0.015</td>\n",
       "                        <td id=\"T_15ce7890_0574_11ed_890f_a904179e0037row4_col4\" class=\"data row4 col4\" >1.561 ± 0.099</td>\n",
       "            </tr>\n",
       "            <tr>\n",
       "                        <th id=\"T_15ce7890_0574_11ed_890f_a904179e0037level0_row5\" class=\"row_heading level0 row5\" >-embed_dim 64</th>\n",
       "                        <td id=\"T_15ce7890_0574_11ed_890f_a904179e0037row5_col0\" class=\"data row5 col0\" >128.186 ± 0.41</td>\n",
       "                        <td id=\"T_15ce7890_0574_11ed_890f_a904179e0037row5_col1\" class=\"data row5 col1\" >0.024 ± 0.004</td>\n",
       "                        <td id=\"T_15ce7890_0574_11ed_890f_a904179e0037row5_col2\" class=\"data row5 col2\" >0.046 ± 0.009</td>\n",
       "                        <td id=\"T_15ce7890_0574_11ed_890f_a904179e0037row5_col3\" class=\"data row5 col3\" >0.245 ± 0.013</td>\n",
       "                        <td id=\"T_15ce7890_0574_11ed_890f_a904179e0037row5_col4\" class=\"data row5 col4\" >1.207 ± 0.146</td>\n",
       "            </tr>\n",
       "            <tr>\n",
       "                        <th id=\"T_15ce7890_0574_11ed_890f_a904179e0037level0_row6\" class=\"row_heading level0 row6\" >-gcn_dim 256</th>\n",
       "                        <td id=\"T_15ce7890_0574_11ed_890f_a904179e0037row6_col0\" class=\"data row6 col0\" >113.646 ± 0.321</td>\n",
       "                        <td id=\"T_15ce7890_0574_11ed_890f_a904179e0037row6_col1\" class=\"data row6 col1\" >0.023 ± 0.005</td>\n",
       "                        <td id=\"T_15ce7890_0574_11ed_890f_a904179e0037row6_col2\" class=\"data row6 col2\" >0.013 ± 0.004</td>\n",
       "                        <td id=\"T_15ce7890_0574_11ed_890f_a904179e0037row6_col3\" class=\"data row6 col3\" >0.12 ± 0.008</td>\n",
       "                        <td id=\"T_15ce7890_0574_11ed_890f_a904179e0037row6_col4\" class=\"data row6 col4\" >1.972 ± 0.211</td>\n",
       "            </tr>\n",
       "            <tr>\n",
       "                        <th id=\"T_15ce7890_0574_11ed_890f_a904179e0037level0_row7\" class=\"row_heading level0 row7\" >-gcn_dim 64</th>\n",
       "                        <td id=\"T_15ce7890_0574_11ed_890f_a904179e0037row7_col0\" class=\"data row7 col0\" >116.035 ± 0.33</td>\n",
       "                        <td id=\"T_15ce7890_0574_11ed_890f_a904179e0037row7_col1\" class=\"data row7 col1\" >0.027 ± 0.003</td>\n",
       "                        <td id=\"T_15ce7890_0574_11ed_890f_a904179e0037row7_col2\" class=\"data row7 col2\" >0.023 ± 0.006</td>\n",
       "                        <td id=\"T_15ce7890_0574_11ed_890f_a904179e0037row7_col3\" class=\"data row7 col3\" >0.142 ± 0.007</td>\n",
       "                        <td id=\"T_15ce7890_0574_11ed_890f_a904179e0037row7_col4\" class=\"data row7 col4\" >0.87 ± 0.072</td>\n",
       "            </tr>\n",
       "            <tr>\n",
       "                        <th id=\"T_15ce7890_0574_11ed_890f_a904179e0037level0_row8\" class=\"row_heading level0 row8\" >-gcn_drop 0.15</th>\n",
       "                        <td id=\"T_15ce7890_0574_11ed_890f_a904179e0037row8_col0\" class=\"data row8 col0\" >115.43 ± 0.252</td>\n",
       "                        <td id=\"T_15ce7890_0574_11ed_890f_a904179e0037row8_col1\" class=\"data row8 col1\" >0.023 ± 0.004</td>\n",
       "                        <td id=\"T_15ce7890_0574_11ed_890f_a904179e0037row8_col2\" class=\"data row8 col2\" >0.023 ± 0.01</td>\n",
       "                        <td id=\"T_15ce7890_0574_11ed_890f_a904179e0037row8_col3\" class=\"data row8 col3\" >0.131 ± 0.013</td>\n",
       "                        <td id=\"T_15ce7890_0574_11ed_890f_a904179e0037row8_col4\" class=\"data row8 col4\" >1.688 ± 0.142</td>\n",
       "            </tr>\n",
       "            <tr>\n",
       "                        <th id=\"T_15ce7890_0574_11ed_890f_a904179e0037level0_row9\" class=\"row_heading level0 row9\" >-gcn_drop 0.18</th>\n",
       "                        <td id=\"T_15ce7890_0574_11ed_890f_a904179e0037row9_col0\" class=\"data row9 col0\" >114.694 ± 0.325</td>\n",
       "                        <td id=\"T_15ce7890_0574_11ed_890f_a904179e0037row9_col1\" class=\"data row9 col1\" >0.021 ± 0.004</td>\n",
       "                        <td id=\"T_15ce7890_0574_11ed_890f_a904179e0037row9_col2\" class=\"data row9 col2\" >0.026 ± 0.007</td>\n",
       "                        <td id=\"T_15ce7890_0574_11ed_890f_a904179e0037row9_col3\" class=\"data row9 col3\" >0.128 ± 0.009</td>\n",
       "                        <td id=\"T_15ce7890_0574_11ed_890f_a904179e0037row9_col4\" class=\"data row9 col4\" >1.58 ± 0.105</td>\n",
       "            </tr>\n",
       "            <tr>\n",
       "                        <th id=\"T_15ce7890_0574_11ed_890f_a904179e0037level0_row10\" class=\"row_heading level0 row10\" >-gcn_drop 0.2</th>\n",
       "                        <td id=\"T_15ce7890_0574_11ed_890f_a904179e0037row10_col0\" class=\"data row10 col0\" >114.84 ± 0.378</td>\n",
       "                        <td id=\"T_15ce7890_0574_11ed_890f_a904179e0037row10_col1\" class=\"data row10 col1\" >0.021 ± 0.002</td>\n",
       "                        <td id=\"T_15ce7890_0574_11ed_890f_a904179e0037row10_col2\" class=\"data row10 col2\" >0.04 ± 0.011</td>\n",
       "                        <td id=\"T_15ce7890_0574_11ed_890f_a904179e0037row10_col3\" class=\"data row10 col3\" >0.122 ± 0.011</td>\n",
       "                        <td id=\"T_15ce7890_0574_11ed_890f_a904179e0037row10_col4\" class=\"data row10 col4\" >1.32 ± 0.208</td>\n",
       "            </tr>\n",
       "            <tr>\n",
       "                        <th id=\"T_15ce7890_0574_11ed_890f_a904179e0037level0_row11\" class=\"row_heading level0 row11\" >-gcn_drop 0.3</th>\n",
       "                        <td id=\"T_15ce7890_0574_11ed_890f_a904179e0037row11_col0\" class=\"data row11 col0\" >116.827 ± 0.394</td>\n",
       "                        <td id=\"T_15ce7890_0574_11ed_890f_a904179e0037row11_col1\" class=\"data row11 col1\" >0.022 ± 0.005</td>\n",
       "                        <td id=\"T_15ce7890_0574_11ed_890f_a904179e0037row11_col2\" class=\"data row11 col2\" >0.027 ± 0.013</td>\n",
       "                        <td id=\"T_15ce7890_0574_11ed_890f_a904179e0037row11_col3\" class=\"data row11 col3\" >0.139 ± 0.007</td>\n",
       "                        <td id=\"T_15ce7890_0574_11ed_890f_a904179e0037row11_col4\" class=\"data row11 col4\" >1.765 ± 0.21</td>\n",
       "            </tr>\n",
       "            <tr>\n",
       "                        <th id=\"T_15ce7890_0574_11ed_890f_a904179e0037level0_row12\" class=\"row_heading level0 row12\" >-gcn_drop 0.4</th>\n",
       "                        <td id=\"T_15ce7890_0574_11ed_890f_a904179e0037row12_col0\" class=\"data row12 col0\" >115.669 ± 0.176</td>\n",
       "                        <td id=\"T_15ce7890_0574_11ed_890f_a904179e0037row12_col1\" class=\"data row12 col1\" >0.026 ± 0.005</td>\n",
       "                        <td id=\"T_15ce7890_0574_11ed_890f_a904179e0037row12_col2\" class=\"data row12 col2\" >0.034 ± 0.007</td>\n",
       "                        <td id=\"T_15ce7890_0574_11ed_890f_a904179e0037row12_col3\" class=\"data row12 col3\" >0.144 ± 0.008</td>\n",
       "                        <td id=\"T_15ce7890_0574_11ed_890f_a904179e0037row12_col4\" class=\"data row12 col4\" >1.818 ± 0.189</td>\n",
       "            </tr>\n",
       "            <tr>\n",
       "                        <th id=\"T_15ce7890_0574_11ed_890f_a904179e0037level0_row13\" class=\"row_heading level0 row13\" >-hid_drop 0.1</th>\n",
       "                        <td id=\"T_15ce7890_0574_11ed_890f_a904179e0037row13_col0\" class=\"data row13 col0\" >112.298 ± 3.447</td>\n",
       "                        <td id=\"T_15ce7890_0574_11ed_890f_a904179e0037row13_col1\" class=\"data row13 col1\" >0.023 ± 0.002</td>\n",
       "                        <td id=\"T_15ce7890_0574_11ed_890f_a904179e0037row13_col2\" class=\"data row13 col2\" >0.012 ± 0.007</td>\n",
       "                        <td id=\"T_15ce7890_0574_11ed_890f_a904179e0037row13_col3\" class=\"data row13 col3\" >0.11 ± 0.025</td>\n",
       "                        <td id=\"T_15ce7890_0574_11ed_890f_a904179e0037row13_col4\" class=\"data row13 col4\" >0.948 ± 0.25</td>\n",
       "            </tr>\n",
       "            <tr>\n",
       "                        <th id=\"T_15ce7890_0574_11ed_890f_a904179e0037level0_row14\" class=\"row_heading level0 row14\" >-hid_drop 0.2</th>\n",
       "                        <td id=\"T_15ce7890_0574_11ed_890f_a904179e0037row14_col0\" class=\"data row14 col0\" >109.623 ± 0.588</td>\n",
       "                        <td id=\"T_15ce7890_0574_11ed_890f_a904179e0037row14_col1\" class=\"data row14 col1\" >0.016 ± 0.003</td>\n",
       "                        <td id=\"T_15ce7890_0574_11ed_890f_a904179e0037row14_col2\" class=\"data row14 col2\" >0.014 ± 0.007</td>\n",
       "                        <td id=\"T_15ce7890_0574_11ed_890f_a904179e0037row14_col3\" class=\"data row14 col3\" >0.095 ± 0.01</td>\n",
       "                        <td id=\"T_15ce7890_0574_11ed_890f_a904179e0037row14_col4\" class=\"data row14 col4\" >0.947 ± 0.122</td>\n",
       "            </tr>\n",
       "            <tr>\n",
       "                        <th id=\"T_15ce7890_0574_11ed_890f_a904179e0037level0_row15\" class=\"row_heading level0 row15\" >-hid_drop 0.4</th>\n",
       "                        <td id=\"T_15ce7890_0574_11ed_890f_a904179e0037row15_col0\" class=\"data row15 col0\" >120.087 ± 0.597</td>\n",
       "                        <td id=\"T_15ce7890_0574_11ed_890f_a904179e0037row15_col1\" class=\"data row15 col1\" >0.023 ± 0.004</td>\n",
       "                        <td id=\"T_15ce7890_0574_11ed_890f_a904179e0037row15_col2\" class=\"data row15 col2\" >0.045 ± 0.018</td>\n",
       "                        <td id=\"T_15ce7890_0574_11ed_890f_a904179e0037row15_col3\" class=\"data row15 col3\" >0.164 ± 0.008</td>\n",
       "                        <td id=\"T_15ce7890_0574_11ed_890f_a904179e0037row15_col4\" class=\"data row15 col4\" >1.544 ± 0.262</td>\n",
       "            </tr>\n",
       "            <tr>\n",
       "                        <th id=\"T_15ce7890_0574_11ed_890f_a904179e0037level0_row16\" class=\"row_heading level0 row16\" >-init_dim 256</th>\n",
       "                        <td id=\"T_15ce7890_0574_11ed_890f_a904179e0037row16_col0\" class=\"data row16 col0\" >114.472 ± 0.182</td>\n",
       "                        <td id=\"T_15ce7890_0574_11ed_890f_a904179e0037row16_col1\" class=\"data row16 col1\" >0.021 ± 0.006</td>\n",
       "                        <td id=\"T_15ce7890_0574_11ed_890f_a904179e0037row16_col2\" class=\"data row16 col2\" >0.039 ± 0.015</td>\n",
       "                        <td id=\"T_15ce7890_0574_11ed_890f_a904179e0037row16_col3\" class=\"data row16 col3\" >0.138 ± 0.016</td>\n",
       "                        <td id=\"T_15ce7890_0574_11ed_890f_a904179e0037row16_col4\" class=\"data row16 col4\" >1.674 ± 0.102</td>\n",
       "            </tr>\n",
       "            <tr>\n",
       "                        <th id=\"T_15ce7890_0574_11ed_890f_a904179e0037level0_row17\" class=\"row_heading level0 row17\" >-init_dim 512</th>\n",
       "                        <td id=\"T_15ce7890_0574_11ed_890f_a904179e0037row17_col0\" class=\"data row17 col0\" >114.727 ± 0.49</td>\n",
       "                        <td id=\"T_15ce7890_0574_11ed_890f_a904179e0037row17_col1\" class=\"data row17 col1\" >0.02 ± 0.004</td>\n",
       "                        <td id=\"T_15ce7890_0574_11ed_890f_a904179e0037row17_col2\" class=\"data row17 col2\" >0.032 ± 0.013</td>\n",
       "                        <td id=\"T_15ce7890_0574_11ed_890f_a904179e0037row17_col3\" class=\"data row17 col3\" >0.132 ± 0.01</td>\n",
       "                        <td id=\"T_15ce7890_0574_11ed_890f_a904179e0037row17_col4\" class=\"data row17 col4\" >1.497 ± 0.093</td>\n",
       "            </tr>\n",
       "            <tr>\n",
       "                        <th id=\"T_15ce7890_0574_11ed_890f_a904179e0037level0_row18\" class=\"row_heading level0 row18\" >-init_dim 64</th>\n",
       "                        <td id=\"T_15ce7890_0574_11ed_890f_a904179e0037row18_col0\" class=\"data row18 col0\" >114.537 ± 0.254</td>\n",
       "                        <td id=\"T_15ce7890_0574_11ed_890f_a904179e0037row18_col1\" class=\"data row18 col1\" >0.02 ± 0.005</td>\n",
       "                        <td id=\"T_15ce7890_0574_11ed_890f_a904179e0037row18_col2\" class=\"data row18 col2\" >0.05 ± 0.012</td>\n",
       "                        <td id=\"T_15ce7890_0574_11ed_890f_a904179e0037row18_col3\" class=\"data row18 col3\" >0.128 ± 0.012</td>\n",
       "                        <td id=\"T_15ce7890_0574_11ed_890f_a904179e0037row18_col4\" class=\"data row18 col4\" >1.445 ± 0.065</td>\n",
       "            </tr>\n",
       "            <tr>\n",
       "                        <th id=\"T_15ce7890_0574_11ed_890f_a904179e0037level0_row19\" class=\"row_heading level0 row19\" >-lr 0.0001</th>\n",
       "                        <td id=\"T_15ce7890_0574_11ed_890f_a904179e0037row19_col0\" class=\"data row19 col0\" >117.338 ± 0.117</td>\n",
       "                        <td id=\"T_15ce7890_0574_11ed_890f_a904179e0037row19_col1\" class=\"data row19 col1\" >0.032 ± 0.007</td>\n",
       "                        <td id=\"T_15ce7890_0574_11ed_890f_a904179e0037row19_col2\" class=\"data row19 col2\" >0.049 ± 0.019</td>\n",
       "                        <td id=\"T_15ce7890_0574_11ed_890f_a904179e0037row19_col3\" class=\"data row19 col3\" >0.213 ± 0.01</td>\n",
       "                        <td id=\"T_15ce7890_0574_11ed_890f_a904179e0037row19_col4\" class=\"data row19 col4\" >0.742 ± 0.063</td>\n",
       "            </tr>\n",
       "            <tr>\n",
       "                        <th id=\"T_15ce7890_0574_11ed_890f_a904179e0037level0_row20\" class=\"row_heading level0 row20\" >-lr 0.0005</th>\n",
       "                        <td id=\"T_15ce7890_0574_11ed_890f_a904179e0037row20_col0\" class=\"data row20 col0\" >113.983 ± 0.322</td>\n",
       "                        <td id=\"T_15ce7890_0574_11ed_890f_a904179e0037row20_col1\" class=\"data row20 col1\" >0.023 ± 0.005</td>\n",
       "                        <td id=\"T_15ce7890_0574_11ed_890f_a904179e0037row20_col2\" class=\"data row20 col2\" >0.04 ± 0.013</td>\n",
       "                        <td id=\"T_15ce7890_0574_11ed_890f_a904179e0037row20_col3\" class=\"data row20 col3\" >0.154 ± 0.016</td>\n",
       "                        <td id=\"T_15ce7890_0574_11ed_890f_a904179e0037row20_col4\" class=\"data row20 col4\" >1.139 ± 0.072</td>\n",
       "            </tr>\n",
       "            <tr>\n",
       "                        <th id=\"T_15ce7890_0574_11ed_890f_a904179e0037level0_row21\" class=\"row_heading level0 row21\" >-lr 0.005</th>\n",
       "                        <td id=\"T_15ce7890_0574_11ed_890f_a904179e0037row21_col0\" class=\"data row21 col0\" >120.464 ± 0.992</td>\n",
       "                        <td id=\"T_15ce7890_0574_11ed_890f_a904179e0037row21_col1\" class=\"data row21 col1\" >0.03 ± 0.004</td>\n",
       "                        <td id=\"T_15ce7890_0574_11ed_890f_a904179e0037row21_col2\" class=\"data row21 col2\" >0.01 ± 0.002</td>\n",
       "                        <td id=\"T_15ce7890_0574_11ed_890f_a904179e0037row21_col3\" class=\"data row21 col3\" >0.176 ± 0.022</td>\n",
       "                        <td id=\"T_15ce7890_0574_11ed_890f_a904179e0037row21_col4\" class=\"data row21 col4\" >1.687 ± 0.305</td>\n",
       "            </tr>\n",
       "    </tbody></table>"
      ],
      "text/plain": [
       "<pandas.io.formats.style.Styler at 0x7f94464de208>"
      ]
     },
     "execution_count": 10,
     "metadata": {},
     "output_type": "execute_result"
    }
   ],
   "source": [
    "def highlight_pm(s,sign): # highlight best PPL and TCs in green\n",
    "    is_best = compute_min(s,sign) if 'PPL' in s.name else compute_max(s,sign)\n",
    "    return ['background: green' if cell else '' for cell in is_best]\n",
    "highlight_base_pm = lambda x: ['background: darkblue' if x.name in ['-avgbaseline'] else '' for i in x] # high light the avgbaseline in blue\n",
    "\n",
    "\n",
    "# highlight the rows: avgbaseline in blue, best PPL & TCs in green\n",
    "# .apply(highlight_base_pm,axis=1) \n",
    "df_result.style.apply(lambda s: highlight_pm(s,pm_sign)).apply(highlight_base_pm,axis=1) "
   ]
  },
  {
   "cell_type": "code",
   "execution_count": 11,
   "metadata": {},
   "outputs": [
    {
     "data": {
      "text/plain": [
       "dict_keys(['-seed 41504', '-seed 47486', '-seed 43690', '-seed 24602', '-seed 33273', '-seed 21897'])"
      ]
     },
     "execution_count": 11,
     "metadata": {},
     "output_type": "execute_result"
    }
   ],
   "source": [
    "compare_params.keys() # the seeds we used in these experiments"
   ]
  },
  {
   "cell_type": "code",
   "execution_count": 12,
   "metadata": {},
   "outputs": [],
   "source": [
    "all_indexes = []\n",
    "with open(\"./params/params_pool.txt\") as f:\n",
    "    for l in f.readlines():\n",
    "        tokens = l.strip(\"\\n\").split(\" \")\n",
    "        token1 = tokens[-1]\n",
    "        if token1 == 'CCS':\n",
    "            param = '-avgbaseline'\n",
    "        else:\n",
    "            token2 = tokens[-2]\n",
    "            param = f\"{token2} {token1}\"\n",
    "        all_indexes.append(param)\n",
    "all_indexes = set(all_indexes)"
   ]
  },
  {
   "cell_type": "code",
   "execution_count": 15,
   "metadata": {},
   "outputs": [
    {
     "data": {
      "text/plain": [
       "{'subbkg_dd_nll_16_07_2022_14:45:21.csv': '-batch 32 -seed 47486',\n",
       " 'subbkg_dd_nll_16_07_2022_18:04:09.csv': '-gcn_drop 0.18 -seed 33273',\n",
       " 'subbkg_dd_nll_16_07_2022_18:05:02.csv': '-gcn_drop 0.4 -seed 21897',\n",
       " 'subbkg_dd_nll_16_07_2022_21:41:09.csv': '-hid_drop 0.1 -seed 47486'}"
      ]
     },
     "execution_count": 15,
     "metadata": {},
     "output_type": "execute_result"
    }
   ],
   "source": [
    "# check how many experiments are still running\n",
    "running_exps = {}\n",
    "for f,f_name in zip(files,file_names):\n",
    "    df = pd.read_csv(f)\n",
    "    status_series = df['split']\n",
    "    status = status_series.iloc[-1]\n",
    "    if status == \"valid\":\n",
    "        running_exps[f_name] = f2param[f_name]"
   ]
  },
  {
   "cell_type": "code",
   "execution_count": null,
   "metadata": {},
   "outputs": [],
   "source": [
    "running_exps"
   ]
  },
  {
   "cell_type": "code",
   "execution_count": 13,
   "metadata": {},
   "outputs": [
    {
     "name": "stdout",
     "output_type": "stream",
     "text": [
      "-seed 41504 set()\n",
      "-seed 47486 set()\n",
      "-seed 43690 set()\n",
      "-seed 24602 set()\n",
      "-seed 33273 set()\n",
      "-seed 21897 set()\n"
     ]
    }
   ],
   "source": [
    "# find the missing params from experiments (identified with seed)\n",
    "# such params are NOT in running schedule, if a param does not show in here\n",
    "# then it is either Done or Running\n",
    "for k,v in s2p_map.items():\n",
    "    cur_v = []\n",
    "    for param in v:\n",
    "        pattern = re.search(r\" -seed.*\",param).group()\n",
    "        cur_v.append(param.replace(pattern,\"\"))\n",
    "    newv = set(cur_v)\n",
    "    print(k, all_indexes.difference(newv))"
   ]
  }
 ],
 "metadata": {
  "kernelspec": {
   "display_name": "Python 3.6.13 ('base')",
   "language": "python",
   "name": "python3"
  },
  "language_info": {
   "codemirror_mode": {
    "name": "ipython",
    "version": 3
   },
   "file_extension": ".py",
   "mimetype": "text/x-python",
   "name": "python",
   "nbconvert_exporter": "python",
   "pygments_lexer": "ipython3",
   "version": "3.6.13"
  },
  "orig_nbformat": 4,
  "vscode": {
   "interpreter": {
    "hash": "598d75f7b5acc1e1aa6b6e29dd5e9f8c7e6fd654696603551f48fc57dde3bd22"
   }
  }
 },
 "nbformat": 4,
 "nbformat_minor": 2
}
