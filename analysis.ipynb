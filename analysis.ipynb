{
 "cells": [
  {
   "cell_type": "code",
   "execution_count": 1,
   "metadata": {},
   "outputs": [],
   "source": [
    "import os\n",
    "import re\n",
    "import pandas as pd\n",
    "from visualization import *\n",
    "path = './tuning'\n",
    "img_path = './tuning_img'\n",
    "\n",
    "param_log = 'params_log.txt'\n",
    "measure_cols = ['PPL', 'topic_recon', 'tc_drug_drug', 'tc_disease_disease', 'tc_drug_disease']\n",
    "max_measures = [s+\"_max\" for s in measure_cols[1:]] \n",
    "max_epoches = [s+\"_max_epoch\" for s in measure_cols[1:]]\n",
    "files = [os.path.join(path,f) for f in sorted(os.listdir(path))][2:]\n",
    "file_names = [f for f in sorted(os.listdir(path))][2:]"
   ]
  },
  {
   "cell_type": "code",
   "execution_count": 2,
   "metadata": {},
   "outputs": [],
   "source": [
    "# file-to-param mapping\n",
    "f2param = get_f2p(param_log)\n",
    "rows = []\n",
    "for f,f_name in zip(files,file_names):\n",
    "    best_row = get_row(f,f_name,f2param,measure_cols[1:])\n",
    "    rows.append(best_row)\n",
    "    ## uncomment this line to generate the plts for csv files\n",
    "    # plt_csv(f,f_name,f2param,showfig=False)"
   ]
  },
  {
   "cell_type": "code",
   "execution_count": 3,
   "metadata": {},
   "outputs": [],
   "source": [
    "# raw data \n",
    "df = pd.concat(rows,axis=1).T\n",
    "df.sort_values(by=\"PPL\",inplace=True)\n",
    "df[measure_cols] = df[measure_cols].apply(pd.to_numeric).round(3)\n",
    "df[[\"Epoch\",\"best_epoch\"]] = df[[\"Epoch\",\"best_epoch\"]].astype(int)\n",
    "df[max_measures] = df[max_measures].round(3)\n",
    "df[max_epoches] = df[max_epoches].astype(int)\n",
    "df_measure = df[measure_cols]"
   ]
  },
  {
   "cell_type": "code",
   "execution_count": 4,
   "metadata": {},
   "outputs": [],
   "source": [
    "s2p_map = get_s2p(list(df.index))\n",
    "# excluding the '-seed 47486'\n",
    "del s2p_map['-seed 47486']\n",
    "df_avg_baselines = pd.DataFrame()\n",
    "# calculate a avg baseline and add them to to s2p_map\n",
    "for seed, params in s2p_map.items():\n",
    "    baselines = []\n",
    "    for l in params:\n",
    "        if \"-baseline\" in l:\n",
    "            baselines.append(l)\n",
    "    index_name = f\"-avgbaseline {seed}\"\n",
    "    avg_baseline = df_measure.loc[baselines].mean(axis=0).rename(index_name)\n",
    "    # add a series to dataframe: needs to convert series to dataframe, and then Transpose it\n",
    "    df_avg_baselines = pd.concat([df_avg_baselines,avg_baseline.to_frame().T],axis=0)\n",
    "    s2p_map[seed].append(index_name)\n",
    "# merge avgbaselines with original raw data\n",
    "df_measure = pd.concat([df_measure,df_avg_baselines])"
   ]
  },
  {
   "cell_type": "code",
   "execution_count": 5,
   "metadata": {},
   "outputs": [],
   "source": [
    "# seeds = s2p_map.keys()\n",
    "compare_params,share_params = same_params(s2p_map)\n",
    "param_num = len(list(compare_params.values())[0]) # number of parameters\n",
    "stderr_list = []\n",
    "avg_measure_list = []\n",
    "for i in range(param_num):\n",
    "    display_list = [compare_params[seed][i] for seed in compare_params.keys()]\n",
    "    # compute the standard error based on some params tuned: std of avgbaselines, avg of -lr 0.05...\n",
    "    stderr_series = df_measure.loc[display_list].sem(axis=0) \n",
    "    stderr_series = stderr_series.rename(str(share_params[i])) # rename the series\n",
    "    stderr_list.append(stderr_series)\n",
    "    # compute the avg of all params: avg of avgbaselines, avg of -lr 0.05, ...\n",
    "    avg_series = df_measure.loc[display_list].mean(axis=0) \n",
    "    avg_series = avg_series.rename(str(share_params[i]))\n",
    "    avg_measure_list.append(avg_series)\n",
    "df_stderr = pd.concat(stderr_list,axis=1).T\n",
    "df_avg_measure = pd.concat(avg_measure_list,axis=1).T"
   ]
  },
  {
   "cell_type": "code",
   "execution_count": 6,
   "metadata": {},
   "outputs": [],
   "source": [
    "def highlight(s): # highlight best PPL and TCs in green\n",
    "    is_best = s == s.min() if 'PPL' in s.name else s == s.max()\n",
    "    return ['background: green' if cell else '' for cell in is_best]\n",
    "highlight_base = lambda x: ['background: darkblue' if x.name in ['-avgbaseline'] else '' for i in x] # high light the avgbaseline in blue"
   ]
  },
  {
   "cell_type": "code",
   "execution_count": 7,
   "metadata": {},
   "outputs": [],
   "source": [
    "df_stderr = df_stderr.sort_values(by=\"PPL\")\n",
    "\n",
    "# df_stderr.style.apply(highlight).apply(highlight_base,axis=1).format(precision=3)"
   ]
  },
  {
   "cell_type": "code",
   "execution_count": 8,
   "metadata": {},
   "outputs": [],
   "source": [
    "df_avg_measure = df_avg_measure.sort_values(by=\"PPL\")\n",
    "\n",
    "# df_avg_measure.style.apply(highlight).apply(highlight_base,axis=1).format(precision=3)"
   ]
  },
  {
   "cell_type": "code",
   "execution_count": 9,
   "metadata": {},
   "outputs": [],
   "source": [
    "pm_sign = \" \\u00B1 \"\n",
    "cols2pm_map = {}\n",
    "for col in measure_cols:\n",
    "    cols2pm_map[col] = f\"{col} {pm_sign} stderr\"\n",
    "stderr = pd.DataFrame()\n",
    "avg = pd.DataFrame()\n",
    "stderr[measure_cols] = df_stderr[measure_cols].round(3).astype(str)\n",
    "avg[measure_cols] = df_avg_measure[measure_cols].round(3).astype(str)\n",
    "\n",
    "df_result = pd.concat([avg.stack(),stderr.stack()],axis=1) \\\n",
    "    .apply(lambda x: pm_sign.join(x), axis=1) \\\n",
    "    .unstack()\n",
    "\n",
    "df_result.rename(columns=cols2pm_map, inplace=True)"
   ]
  },
  {
   "cell_type": "code",
   "execution_count": 10,
   "metadata": {},
   "outputs": [
    {
     "data": {
      "text/html": [
       "<style  type=\"text/css\" >\n",
       "#T_0d9dc02a_054e_11ed_b85c_a37d79bd13c0row0_col0,#T_0d9dc02a_054e_11ed_b85c_a37d79bd13c0row0_col1,#T_0d9dc02a_054e_11ed_b85c_a37d79bd13c0row0_col2,#T_0d9dc02a_054e_11ed_b85c_a37d79bd13c0row0_col3,#T_0d9dc02a_054e_11ed_b85c_a37d79bd13c0row0_col4{\n",
       "            background:  darkblue;\n",
       "        }#T_0d9dc02a_054e_11ed_b85c_a37d79bd13c0row4_col2,#T_0d9dc02a_054e_11ed_b85c_a37d79bd13c0row5_col3,#T_0d9dc02a_054e_11ed_b85c_a37d79bd13c0row6_col4,#T_0d9dc02a_054e_11ed_b85c_a37d79bd13c0row11_col0,#T_0d9dc02a_054e_11ed_b85c_a37d79bd13c0row19_col1{\n",
       "            background:  green;\n",
       "        }</style><table id=\"T_0d9dc02a_054e_11ed_b85c_a37d79bd13c0\" ><thead>    <tr>        <th class=\"blank level0\" ></th>        <th class=\"col_heading level0 col0\" >PPL  ±  stderr</th>        <th class=\"col_heading level0 col1\" >tc_disease_disease  ±  stderr</th>        <th class=\"col_heading level0 col2\" >tc_drug_disease  ±  stderr</th>        <th class=\"col_heading level0 col3\" >tc_drug_drug  ±  stderr</th>        <th class=\"col_heading level0 col4\" >topic_recon  ±  stderr</th>    </tr></thead><tbody>\n",
       "                <tr>\n",
       "                        <th id=\"T_0d9dc02a_054e_11ed_b85c_a37d79bd13c0level0_row0\" class=\"row_heading level0 row0\" >-avgbaseline</th>\n",
       "                        <td id=\"T_0d9dc02a_054e_11ed_b85c_a37d79bd13c0row0_col0\" class=\"data row0 col0\" >114.304 ± 0.279</td>\n",
       "                        <td id=\"T_0d9dc02a_054e_11ed_b85c_a37d79bd13c0row0_col1\" class=\"data row0 col1\" >0.021 ± 0.002</td>\n",
       "                        <td id=\"T_0d9dc02a_054e_11ed_b85c_a37d79bd13c0row0_col2\" class=\"data row0 col2\" >0.036 ± 0.014</td>\n",
       "                        <td id=\"T_0d9dc02a_054e_11ed_b85c_a37d79bd13c0row0_col3\" class=\"data row0 col3\" >0.13 ± 0.005</td>\n",
       "                        <td id=\"T_0d9dc02a_054e_11ed_b85c_a37d79bd13c0row0_col4\" class=\"data row0 col4\" >1.524 ± 0.13</td>\n",
       "            </tr>\n",
       "            <tr>\n",
       "                        <th id=\"T_0d9dc02a_054e_11ed_b85c_a37d79bd13c0level0_row1\" class=\"row_heading level0 row1\" >-batch 256</th>\n",
       "                        <td id=\"T_0d9dc02a_054e_11ed_b85c_a37d79bd13c0row1_col0\" class=\"data row1 col0\" >115.732 ± 0.321</td>\n",
       "                        <td id=\"T_0d9dc02a_054e_11ed_b85c_a37d79bd13c0row1_col1\" class=\"data row1 col1\" >0.027 ± 0.006</td>\n",
       "                        <td id=\"T_0d9dc02a_054e_11ed_b85c_a37d79bd13c0row1_col2\" class=\"data row1 col2\" >0.021 ± 0.011</td>\n",
       "                        <td id=\"T_0d9dc02a_054e_11ed_b85c_a37d79bd13c0row1_col3\" class=\"data row1 col3\" >0.111 ± 0.011</td>\n",
       "                        <td id=\"T_0d9dc02a_054e_11ed_b85c_a37d79bd13c0row1_col4\" class=\"data row1 col4\" >1.181 ± 0.191</td>\n",
       "            </tr>\n",
       "            <tr>\n",
       "                        <th id=\"T_0d9dc02a_054e_11ed_b85c_a37d79bd13c0level0_row2\" class=\"row_heading level0 row2\" >-batch 32</th>\n",
       "                        <td id=\"T_0d9dc02a_054e_11ed_b85c_a37d79bd13c0row2_col0\" class=\"data row2 col0\" >113.634 ± 0.391</td>\n",
       "                        <td id=\"T_0d9dc02a_054e_11ed_b85c_a37d79bd13c0row2_col1\" class=\"data row2 col1\" >0.018 ± 0.002</td>\n",
       "                        <td id=\"T_0d9dc02a_054e_11ed_b85c_a37d79bd13c0row2_col2\" class=\"data row2 col2\" >0.017 ± 0.005</td>\n",
       "                        <td id=\"T_0d9dc02a_054e_11ed_b85c_a37d79bd13c0row2_col3\" class=\"data row2 col3\" >0.125 ± 0.012</td>\n",
       "                        <td id=\"T_0d9dc02a_054e_11ed_b85c_a37d79bd13c0row2_col4\" class=\"data row2 col4\" >1.406 ± 0.127</td>\n",
       "            </tr>\n",
       "            <tr>\n",
       "                        <th id=\"T_0d9dc02a_054e_11ed_b85c_a37d79bd13c0level0_row3\" class=\"row_heading level0 row3\" >-batch 64</th>\n",
       "                        <td id=\"T_0d9dc02a_054e_11ed_b85c_a37d79bd13c0row3_col0\" class=\"data row3 col0\" >113.83 ± 0.235</td>\n",
       "                        <td id=\"T_0d9dc02a_054e_11ed_b85c_a37d79bd13c0row3_col1\" class=\"data row3 col1\" >0.024 ± 0.002</td>\n",
       "                        <td id=\"T_0d9dc02a_054e_11ed_b85c_a37d79bd13c0row3_col2\" class=\"data row3 col2\" >0.022 ± 0.008</td>\n",
       "                        <td id=\"T_0d9dc02a_054e_11ed_b85c_a37d79bd13c0row3_col3\" class=\"data row3 col3\" >0.134 ± 0.02</td>\n",
       "                        <td id=\"T_0d9dc02a_054e_11ed_b85c_a37d79bd13c0row3_col4\" class=\"data row3 col4\" >1.587 ± 0.22</td>\n",
       "            </tr>\n",
       "            <tr>\n",
       "                        <th id=\"T_0d9dc02a_054e_11ed_b85c_a37d79bd13c0level0_row4\" class=\"row_heading level0 row4\" >-embed_dim 128</th>\n",
       "                        <td id=\"T_0d9dc02a_054e_11ed_b85c_a37d79bd13c0row4_col0\" class=\"data row4 col0\" >118.867 ± 0.235</td>\n",
       "                        <td id=\"T_0d9dc02a_054e_11ed_b85c_a37d79bd13c0row4_col1\" class=\"data row4 col1\" >0.024 ± 0.003</td>\n",
       "                        <td id=\"T_0d9dc02a_054e_11ed_b85c_a37d79bd13c0row4_col2\" class=\"data row4 col2\" >0.056 ± 0.014</td>\n",
       "                        <td id=\"T_0d9dc02a_054e_11ed_b85c_a37d79bd13c0row4_col3\" class=\"data row4 col3\" >0.186 ± 0.018</td>\n",
       "                        <td id=\"T_0d9dc02a_054e_11ed_b85c_a37d79bd13c0row4_col4\" class=\"data row4 col4\" >1.497 ± 0.093</td>\n",
       "            </tr>\n",
       "            <tr>\n",
       "                        <th id=\"T_0d9dc02a_054e_11ed_b85c_a37d79bd13c0level0_row5\" class=\"row_heading level0 row5\" >-embed_dim 64</th>\n",
       "                        <td id=\"T_0d9dc02a_054e_11ed_b85c_a37d79bd13c0row5_col0\" class=\"data row5 col0\" >128.08 ± 0.485</td>\n",
       "                        <td id=\"T_0d9dc02a_054e_11ed_b85c_a37d79bd13c0row5_col1\" class=\"data row5 col1\" >0.025 ± 0.004</td>\n",
       "                        <td id=\"T_0d9dc02a_054e_11ed_b85c_a37d79bd13c0row5_col2\" class=\"data row5 col2\" >0.047 ± 0.011</td>\n",
       "                        <td id=\"T_0d9dc02a_054e_11ed_b85c_a37d79bd13c0row5_col3\" class=\"data row5 col3\" >0.239 ± 0.013</td>\n",
       "                        <td id=\"T_0d9dc02a_054e_11ed_b85c_a37d79bd13c0row5_col4\" class=\"data row5 col4\" >1.185 ± 0.176</td>\n",
       "            </tr>\n",
       "            <tr>\n",
       "                        <th id=\"T_0d9dc02a_054e_11ed_b85c_a37d79bd13c0level0_row6\" class=\"row_heading level0 row6\" >-gcn_dim 256</th>\n",
       "                        <td id=\"T_0d9dc02a_054e_11ed_b85c_a37d79bd13c0row6_col0\" class=\"data row6 col0\" >113.604 ± 0.39</td>\n",
       "                        <td id=\"T_0d9dc02a_054e_11ed_b85c_a37d79bd13c0row6_col1\" class=\"data row6 col1\" >0.026 ± 0.005</td>\n",
       "                        <td id=\"T_0d9dc02a_054e_11ed_b85c_a37d79bd13c0row6_col2\" class=\"data row6 col2\" >0.012 ± 0.005</td>\n",
       "                        <td id=\"T_0d9dc02a_054e_11ed_b85c_a37d79bd13c0row6_col3\" class=\"data row6 col3\" >0.124 ± 0.009</td>\n",
       "                        <td id=\"T_0d9dc02a_054e_11ed_b85c_a37d79bd13c0row6_col4\" class=\"data row6 col4\" >1.993 ± 0.257</td>\n",
       "            </tr>\n",
       "            <tr>\n",
       "                        <th id=\"T_0d9dc02a_054e_11ed_b85c_a37d79bd13c0level0_row7\" class=\"row_heading level0 row7\" >-gcn_dim 64</th>\n",
       "                        <td id=\"T_0d9dc02a_054e_11ed_b85c_a37d79bd13c0row7_col0\" class=\"data row7 col0\" >115.961 ± 0.394</td>\n",
       "                        <td id=\"T_0d9dc02a_054e_11ed_b85c_a37d79bd13c0row7_col1\" class=\"data row7 col1\" >0.029 ± 0.003</td>\n",
       "                        <td id=\"T_0d9dc02a_054e_11ed_b85c_a37d79bd13c0row7_col2\" class=\"data row7 col2\" >0.024 ± 0.007</td>\n",
       "                        <td id=\"T_0d9dc02a_054e_11ed_b85c_a37d79bd13c0row7_col3\" class=\"data row7 col3\" >0.144 ± 0.008</td>\n",
       "                        <td id=\"T_0d9dc02a_054e_11ed_b85c_a37d79bd13c0row7_col4\" class=\"data row7 col4\" >0.923 ± 0.058</td>\n",
       "            </tr>\n",
       "            <tr>\n",
       "                        <th id=\"T_0d9dc02a_054e_11ed_b85c_a37d79bd13c0level0_row8\" class=\"row_heading level0 row8\" >-gcn_drop 0.15</th>\n",
       "                        <td id=\"T_0d9dc02a_054e_11ed_b85c_a37d79bd13c0row8_col0\" class=\"data row8 col0\" >115.538 ± 0.28</td>\n",
       "                        <td id=\"T_0d9dc02a_054e_11ed_b85c_a37d79bd13c0row8_col1\" class=\"data row8 col1\" >0.025 ± 0.004</td>\n",
       "                        <td id=\"T_0d9dc02a_054e_11ed_b85c_a37d79bd13c0row8_col2\" class=\"data row8 col2\" >0.015 ± 0.006</td>\n",
       "                        <td id=\"T_0d9dc02a_054e_11ed_b85c_a37d79bd13c0row8_col3\" class=\"data row8 col3\" >0.124 ± 0.013</td>\n",
       "                        <td id=\"T_0d9dc02a_054e_11ed_b85c_a37d79bd13c0row8_col4\" class=\"data row8 col4\" >1.624 ± 0.154</td>\n",
       "            </tr>\n",
       "            <tr>\n",
       "                        <th id=\"T_0d9dc02a_054e_11ed_b85c_a37d79bd13c0level0_row9\" class=\"row_heading level0 row9\" >-gcn_drop 0.2</th>\n",
       "                        <td id=\"T_0d9dc02a_054e_11ed_b85c_a37d79bd13c0row9_col0\" class=\"data row9 col0\" >114.672 ± 0.415</td>\n",
       "                        <td id=\"T_0d9dc02a_054e_11ed_b85c_a37d79bd13c0row9_col1\" class=\"data row9 col1\" >0.021 ± 0.002</td>\n",
       "                        <td id=\"T_0d9dc02a_054e_11ed_b85c_a37d79bd13c0row9_col2\" class=\"data row9 col2\" >0.034 ± 0.011</td>\n",
       "                        <td id=\"T_0d9dc02a_054e_11ed_b85c_a37d79bd13c0row9_col3\" class=\"data row9 col3\" >0.125 ± 0.013</td>\n",
       "                        <td id=\"T_0d9dc02a_054e_11ed_b85c_a37d79bd13c0row9_col4\" class=\"data row9 col4\" >1.25 ± 0.24</td>\n",
       "            </tr>\n",
       "            <tr>\n",
       "                        <th id=\"T_0d9dc02a_054e_11ed_b85c_a37d79bd13c0level0_row10\" class=\"row_heading level0 row10\" >-gcn_drop 0.3</th>\n",
       "                        <td id=\"T_0d9dc02a_054e_11ed_b85c_a37d79bd13c0row10_col0\" class=\"data row10 col0\" >116.483 ± 0.234</td>\n",
       "                        <td id=\"T_0d9dc02a_054e_11ed_b85c_a37d79bd13c0row10_col1\" class=\"data row10 col1\" >0.022 ± 0.006</td>\n",
       "                        <td id=\"T_0d9dc02a_054e_11ed_b85c_a37d79bd13c0row10_col2\" class=\"data row10 col2\" >0.019 ± 0.012</td>\n",
       "                        <td id=\"T_0d9dc02a_054e_11ed_b85c_a37d79bd13c0row10_col3\" class=\"data row10 col3\" >0.133 ± 0.006</td>\n",
       "                        <td id=\"T_0d9dc02a_054e_11ed_b85c_a37d79bd13c0row10_col4\" class=\"data row10 col4\" >1.755 ± 0.257</td>\n",
       "            </tr>\n",
       "            <tr>\n",
       "                        <th id=\"T_0d9dc02a_054e_11ed_b85c_a37d79bd13c0level0_row11\" class=\"row_heading level0 row11\" >-hid_drop 0.1</th>\n",
       "                        <td id=\"T_0d9dc02a_054e_11ed_b85c_a37d79bd13c0row11_col0\" class=\"data row11 col0\" >109.081 ± 1.52</td>\n",
       "                        <td id=\"T_0d9dc02a_054e_11ed_b85c_a37d79bd13c0row11_col1\" class=\"data row11 col1\" >0.023 ± 0.003</td>\n",
       "                        <td id=\"T_0d9dc02a_054e_11ed_b85c_a37d79bd13c0row11_col2\" class=\"data row11 col2\" >0.014 ± 0.008</td>\n",
       "                        <td id=\"T_0d9dc02a_054e_11ed_b85c_a37d79bd13c0row11_col3\" class=\"data row11 col3\" >0.09 ± 0.018</td>\n",
       "                        <td id=\"T_0d9dc02a_054e_11ed_b85c_a37d79bd13c0row11_col4\" class=\"data row11 col4\" >1.02 ± 0.293</td>\n",
       "            </tr>\n",
       "            <tr>\n",
       "                        <th id=\"T_0d9dc02a_054e_11ed_b85c_a37d79bd13c0level0_row12\" class=\"row_heading level0 row12\" >-hid_drop 0.2</th>\n",
       "                        <td id=\"T_0d9dc02a_054e_11ed_b85c_a37d79bd13c0row12_col0\" class=\"data row12 col0\" >110.143 ± 0.337</td>\n",
       "                        <td id=\"T_0d9dc02a_054e_11ed_b85c_a37d79bd13c0row12_col1\" class=\"data row12 col1\" >0.016 ± 0.004</td>\n",
       "                        <td id=\"T_0d9dc02a_054e_11ed_b85c_a37d79bd13c0row12_col2\" class=\"data row12 col2\" >0.013 ± 0.008</td>\n",
       "                        <td id=\"T_0d9dc02a_054e_11ed_b85c_a37d79bd13c0row12_col3\" class=\"data row12 col3\" >0.101 ± 0.011</td>\n",
       "                        <td id=\"T_0d9dc02a_054e_11ed_b85c_a37d79bd13c0row12_col4\" class=\"data row12 col4\" >1.033 ± 0.107</td>\n",
       "            </tr>\n",
       "            <tr>\n",
       "                        <th id=\"T_0d9dc02a_054e_11ed_b85c_a37d79bd13c0level0_row13\" class=\"row_heading level0 row13\" >-hid_drop 0.4</th>\n",
       "                        <td id=\"T_0d9dc02a_054e_11ed_b85c_a37d79bd13c0row13_col0\" class=\"data row13 col0\" >120.129 ± 0.73</td>\n",
       "                        <td id=\"T_0d9dc02a_054e_11ed_b85c_a37d79bd13c0row13_col1\" class=\"data row13 col1\" >0.023 ± 0.005</td>\n",
       "                        <td id=\"T_0d9dc02a_054e_11ed_b85c_a37d79bd13c0row13_col2\" class=\"data row13 col2\" >0.029 ± 0.011</td>\n",
       "                        <td id=\"T_0d9dc02a_054e_11ed_b85c_a37d79bd13c0row13_col3\" class=\"data row13 col3\" >0.162 ± 0.009</td>\n",
       "                        <td id=\"T_0d9dc02a_054e_11ed_b85c_a37d79bd13c0row13_col4\" class=\"data row13 col4\" >1.386 ± 0.255</td>\n",
       "            </tr>\n",
       "            <tr>\n",
       "                        <th id=\"T_0d9dc02a_054e_11ed_b85c_a37d79bd13c0level0_row14\" class=\"row_heading level0 row14\" >-init_dim 256</th>\n",
       "                        <td id=\"T_0d9dc02a_054e_11ed_b85c_a37d79bd13c0row14_col0\" class=\"data row14 col0\" >114.457 ± 0.222</td>\n",
       "                        <td id=\"T_0d9dc02a_054e_11ed_b85c_a37d79bd13c0row14_col1\" class=\"data row14 col1\" >0.022 ± 0.007</td>\n",
       "                        <td id=\"T_0d9dc02a_054e_11ed_b85c_a37d79bd13c0row14_col2\" class=\"data row14 col2\" >0.03 ± 0.014</td>\n",
       "                        <td id=\"T_0d9dc02a_054e_11ed_b85c_a37d79bd13c0row14_col3\" class=\"data row14 col3\" >0.139 ± 0.02</td>\n",
       "                        <td id=\"T_0d9dc02a_054e_11ed_b85c_a37d79bd13c0row14_col4\" class=\"data row14 col4\" >1.687 ± 0.124</td>\n",
       "            </tr>\n",
       "            <tr>\n",
       "                        <th id=\"T_0d9dc02a_054e_11ed_b85c_a37d79bd13c0level0_row15\" class=\"row_heading level0 row15\" >-init_dim 512</th>\n",
       "                        <td id=\"T_0d9dc02a_054e_11ed_b85c_a37d79bd13c0row15_col0\" class=\"data row15 col0\" >115.017 ± 0.484</td>\n",
       "                        <td id=\"T_0d9dc02a_054e_11ed_b85c_a37d79bd13c0row15_col1\" class=\"data row15 col1\" >0.023 ± 0.003</td>\n",
       "                        <td id=\"T_0d9dc02a_054e_11ed_b85c_a37d79bd13c0row15_col2\" class=\"data row15 col2\" >0.024 ± 0.013</td>\n",
       "                        <td id=\"T_0d9dc02a_054e_11ed_b85c_a37d79bd13c0row15_col3\" class=\"data row15 col3\" >0.133 ± 0.013</td>\n",
       "                        <td id=\"T_0d9dc02a_054e_11ed_b85c_a37d79bd13c0row15_col4\" class=\"data row15 col4\" >1.554 ± 0.089</td>\n",
       "            </tr>\n",
       "            <tr>\n",
       "                        <th id=\"T_0d9dc02a_054e_11ed_b85c_a37d79bd13c0level0_row16\" class=\"row_heading level0 row16\" >-init_dim 64</th>\n",
       "                        <td id=\"T_0d9dc02a_054e_11ed_b85c_a37d79bd13c0row16_col0\" class=\"data row16 col0\" >114.369 ± 0.234</td>\n",
       "                        <td id=\"T_0d9dc02a_054e_11ed_b85c_a37d79bd13c0row16_col1\" class=\"data row16 col1\" >0.022 ± 0.005</td>\n",
       "                        <td id=\"T_0d9dc02a_054e_11ed_b85c_a37d79bd13c0row16_col2\" class=\"data row16 col2\" >0.049 ± 0.015</td>\n",
       "                        <td id=\"T_0d9dc02a_054e_11ed_b85c_a37d79bd13c0row16_col3\" class=\"data row16 col3\" >0.134 ± 0.012</td>\n",
       "                        <td id=\"T_0d9dc02a_054e_11ed_b85c_a37d79bd13c0row16_col4\" class=\"data row16 col4\" >1.444 ± 0.08</td>\n",
       "            </tr>\n",
       "            <tr>\n",
       "                        <th id=\"T_0d9dc02a_054e_11ed_b85c_a37d79bd13c0level0_row17\" class=\"row_heading level0 row17\" >-lr 0.0001</th>\n",
       "                        <td id=\"T_0d9dc02a_054e_11ed_b85c_a37d79bd13c0row17_col0\" class=\"data row17 col0\" >117.271 ± 0.117</td>\n",
       "                        <td id=\"T_0d9dc02a_054e_11ed_b85c_a37d79bd13c0row17_col1\" class=\"data row17 col1\" >0.028 ± 0.007</td>\n",
       "                        <td id=\"T_0d9dc02a_054e_11ed_b85c_a37d79bd13c0row17_col2\" class=\"data row17 col2\" >0.053 ± 0.022</td>\n",
       "                        <td id=\"T_0d9dc02a_054e_11ed_b85c_a37d79bd13c0row17_col3\" class=\"data row17 col3\" >0.213 ± 0.012</td>\n",
       "                        <td id=\"T_0d9dc02a_054e_11ed_b85c_a37d79bd13c0row17_col4\" class=\"data row17 col4\" >0.754 ± 0.076</td>\n",
       "            </tr>\n",
       "            <tr>\n",
       "                        <th id=\"T_0d9dc02a_054e_11ed_b85c_a37d79bd13c0level0_row18\" class=\"row_heading level0 row18\" >-lr 0.0005</th>\n",
       "                        <td id=\"T_0d9dc02a_054e_11ed_b85c_a37d79bd13c0row18_col0\" class=\"data row18 col0\" >113.799 ± 0.323</td>\n",
       "                        <td id=\"T_0d9dc02a_054e_11ed_b85c_a37d79bd13c0row18_col1\" class=\"data row18 col1\" >0.024 ± 0.006</td>\n",
       "                        <td id=\"T_0d9dc02a_054e_11ed_b85c_a37d79bd13c0row18_col2\" class=\"data row18 col2\" >0.042 ± 0.016</td>\n",
       "                        <td id=\"T_0d9dc02a_054e_11ed_b85c_a37d79bd13c0row18_col3\" class=\"data row18 col3\" >0.153 ± 0.02</td>\n",
       "                        <td id=\"T_0d9dc02a_054e_11ed_b85c_a37d79bd13c0row18_col4\" class=\"data row18 col4\" >1.093 ± 0.067</td>\n",
       "            </tr>\n",
       "            <tr>\n",
       "                        <th id=\"T_0d9dc02a_054e_11ed_b85c_a37d79bd13c0level0_row19\" class=\"row_heading level0 row19\" >-lr 0.005</th>\n",
       "                        <td id=\"T_0d9dc02a_054e_11ed_b85c_a37d79bd13c0row19_col0\" class=\"data row19 col0\" >120.882 ± 1.102</td>\n",
       "                        <td id=\"T_0d9dc02a_054e_11ed_b85c_a37d79bd13c0row19_col1\" class=\"data row19 col1\" >0.031 ± 0.005</td>\n",
       "                        <td id=\"T_0d9dc02a_054e_11ed_b85c_a37d79bd13c0row19_col2\" class=\"data row19 col2\" >0.009 ± 0.002</td>\n",
       "                        <td id=\"T_0d9dc02a_054e_11ed_b85c_a37d79bd13c0row19_col3\" class=\"data row19 col3\" >0.179 ± 0.026</td>\n",
       "                        <td id=\"T_0d9dc02a_054e_11ed_b85c_a37d79bd13c0row19_col4\" class=\"data row19 col4\" >1.436 ± 0.212</td>\n",
       "            </tr>\n",
       "    </tbody></table>"
      ],
      "text/plain": [
       "<pandas.io.formats.style.Styler at 0x7fda241869b0>"
      ]
     },
     "execution_count": 10,
     "metadata": {},
     "output_type": "execute_result"
    }
   ],
   "source": [
    "def highlight_pm(s,sign): # highlight best PPL and TCs in green\n",
    "    is_best = compute_min(s,sign) if 'PPL' in s.name else compute_max(s,sign)\n",
    "    return ['background: green' if cell else '' for cell in is_best]\n",
    "highlight_base_pm = lambda x: ['background: darkblue' if x.name in ['-avgbaseline'] else '' for i in x] # high light the avgbaseline in blue\n",
    "\n",
    "\n",
    "# highlight the rows: avgbaseline in blue, best PPL & TCs in green\n",
    "# .apply(highlight_base_pm,axis=1) \n",
    "df_result.style.apply(lambda s: highlight_pm(s,pm_sign)).apply(highlight_base_pm,axis=1) "
   ]
  },
  {
   "cell_type": "code",
   "execution_count": 13,
   "metadata": {},
   "outputs": [
    {
     "data": {
      "text/plain": [
       "20"
      ]
     },
     "execution_count": 13,
     "metadata": {},
     "output_type": "execute_result"
    }
   ],
   "source": [
    "len(df_result.index)"
   ]
  },
  {
   "cell_type": "code",
   "execution_count": 11,
   "metadata": {},
   "outputs": [
    {
     "data": {
      "text/plain": [
       "dict_keys(['-seed 41504', '-seed 43690', '-seed 24602', '-seed 33273', '-seed 21897'])"
      ]
     },
     "execution_count": 11,
     "metadata": {},
     "output_type": "execute_result"
    }
   ],
   "source": [
    "compare_params.keys() # the seeds we used in these experiments"
   ]
  },
  {
   "cell_type": "code",
   "execution_count": 15,
   "metadata": {},
   "outputs": [
    {
     "data": {
      "text/plain": [
       "{'-avgbaseline',\n",
       " '-batch 256',\n",
       " '-batch 32',\n",
       " '-batch 64',\n",
       " '-embed_dim 128',\n",
       " '-embed_dim 64',\n",
       " '-gcn_dim 256',\n",
       " '-gcn_dim 64',\n",
       " '-gcn_drop 0.15',\n",
       " '-gcn_drop 0.2',\n",
       " '-gcn_drop 0.3',\n",
       " '-hid_drop 0.1',\n",
       " '-hid_drop 0.2',\n",
       " '-hid_drop 0.4',\n",
       " '-init_dim 256',\n",
       " '-init_dim 512',\n",
       " '-init_dim 64',\n",
       " '-lr 0.0001',\n",
       " '-lr 0.0005',\n",
       " '-lr 0.005'}"
      ]
     },
     "execution_count": 15,
     "metadata": {},
     "output_type": "execute_result"
    }
   ],
   "source": [
    "cur_indexes = set(list(df_result.index))\n",
    "cur_indexes"
   ]
  },
  {
   "cell_type": "code",
   "execution_count": 19,
   "metadata": {},
   "outputs": [],
   "source": [
    "all_indexes = []\n",
    "with open(\"./params/params_pool.txt\") as f:\n",
    "    for l in f.readlines():\n",
    "        tokens = l.strip(\"\\n\").split(\" \")\n",
    "        token1 = tokens[-1]\n",
    "        if token1 == 'CCS':\n",
    "            param = '-avgbaseline'\n",
    "        else:\n",
    "            token2 = tokens[-2]\n",
    "            param = f\"{token2} {token1}\"\n",
    "        all_indexes.append(param)\n",
    "all_indexes = set(all_indexes)"
   ]
  },
  {
   "cell_type": "code",
   "execution_count": 20,
   "metadata": {},
   "outputs": [
    {
     "data": {
      "text/plain": [
       "{'-gcn_drop 0.18', '-gcn_drop 0.4'}"
      ]
     },
     "execution_count": 20,
     "metadata": {},
     "output_type": "execute_result"
    }
   ],
   "source": [
    "all_indexes.difference(cur_indexes)"
   ]
  },
  {
   "cell_type": "code",
   "execution_count": 24,
   "metadata": {},
   "outputs": [
    {
     "name": "stdout",
     "output_type": "stream",
     "text": [
      "-seed 41504 set()\n",
      "-seed 43690 set()\n",
      "-seed 24602 set()\n",
      "-seed 33273 {'-gcn_drop 0.18'}\n",
      "-seed 21897 {'-gcn_drop 0.4'}\n"
     ]
    }
   ],
   "source": [
    "# find the missing params from experiments (identified with seed)\n",
    "for k,v in s2p_map.items():\n",
    "    cur_v = []\n",
    "    for param in v:\n",
    "        pattern = re.search(r\" -seed.*\",param).group()\n",
    "        cur_v.append(param.replace(pattern,\"\"))\n",
    "    newv = set(cur_v)\n",
    "    print(k, all_indexes.difference(newv))"
   ]
  },
  {
   "cell_type": "code",
   "execution_count": 9,
   "metadata": {},
   "outputs": [
    {
     "data": {
      "text/plain": [
       "['-word1 -word2',\n",
       " '-word1 -word3',\n",
       " '-word1 -word4',\n",
       " '-word1 -word2 -word3',\n",
       " '-word1 -word2 -word4',\n",
       " '-word1 -word2 -word3 -word4',\n",
       " '-word2 -word3',\n",
       " '-word2 -word4',\n",
       " '-word2 -word3 -word4',\n",
       " '-word3 -word4']"
      ]
     },
     "execution_count": 9,
     "metadata": {},
     "output_type": "execute_result"
    }
   ],
   "source": [
    "import re\n",
    "words = [\"-word1\",\"-word2\",\"-word3\",\"-word4\"]\n",
    "params_str = \" \".join(words)\n",
    "\n",
    "\n",
    "tokens = params_str.split(\"-\")\n",
    "tokens = [param.strip(\" \") for param in tokens[1:]]\n",
    "params = [f\"-{token}\" for token in tokens]\n",
    "param_num = len(params)\n",
    "\n",
    "result = []\n",
    "for i in range(param_num-1):\n",
    "    base = params[i]\n",
    "    for j in range(i, param_num-1):\n",
    "        for k in range(j+1, param_num):\n",
    "            curl = f\"{base} {params[k]}\"\n",
    "            result.append(curl)\n",
    "        base = f\"{base} {params[j+1]}\"\n",
    "        \n",
    "result"
   ]
  },
  {
   "cell_type": "code",
   "execution_count": 15,
   "metadata": {},
   "outputs": [
    {
     "ename": "SyntaxError",
     "evalue": "invalid syntax (1222724350.py, line 9)",
     "output_type": "error",
     "traceback": [
      "\u001b[0;36m  Input \u001b[0;32mIn [15]\u001b[0;36m\u001b[0m\n\u001b[0;31m    match = re.\u001b[0m\n\u001b[0m               ^\u001b[0m\n\u001b[0;31mSyntaxError\u001b[0m\u001b[0;31m:\u001b[0m invalid syntax\n"
     ]
    }
   ],
   "source": [
    "from subprocess import Popen, PIPE\n",
    "import re\n",
    "pipe = Popen([\"screen\",\"-ls\"], stdout=PIPE)\n",
    "\n",
    "text = pipe.communicate()[0].decode(\"utf-8\")\n",
    "running_screens = text.split(\"\\n\")[1:-2]\n",
    "if running_screens != []:\n",
    "    for l in running_screens:\n",
    "        match = re."
   ]
  }
 ],
 "metadata": {
  "kernelspec": {
   "display_name": "Python 3.9.12 ('gtm')",
   "language": "python",
   "name": "python3"
  },
  "language_info": {
   "codemirror_mode": {
    "name": "ipython",
    "version": 3
   },
   "file_extension": ".py",
   "mimetype": "text/x-python",
   "name": "python",
   "nbconvert_exporter": "python",
   "pygments_lexer": "ipython3",
   "version": "3.9.12"
  },
  "orig_nbformat": 4,
  "vscode": {
   "interpreter": {
    "hash": "f7c184c338abe04a3ed28c25f63ddb841e8c0c5304634330f4b40944fdcf363d"
   }
  }
 },
 "nbformat": 4,
 "nbformat_minor": 2
}
